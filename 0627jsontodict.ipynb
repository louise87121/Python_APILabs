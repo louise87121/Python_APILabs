{
 "cells": [
  {
   "cell_type": "code",
   "execution_count": 2,
   "metadata": {},
   "outputs": [
    {
     "name": "stdout",
     "output_type": "stream",
     "text": [
      "<class 'dict'>\n",
      "{'name': 'qunatpass', 'age': '28', 'city': 'Taipei'}\n"
     ]
    }
   ],
   "source": [
    "import json\n",
    "j = '{\"name\":\"qunatpass\", \"age\":\"28\", \"city\": \"Taipei\"}'\n",
    "date = json.loads(j)\n",
    "\n",
    "print(type(date))\n",
    "print(date)"
   ]
  }
 ],
 "metadata": {
  "kernelspec": {
   "display_name": "Python 3",
   "language": "python",
   "name": "python3"
  },
  "language_info": {
   "codemirror_mode": {
    "name": "ipython",
    "version": 3
   },
   "file_extension": ".py",
   "mimetype": "text/x-python",
   "name": "python",
   "nbconvert_exporter": "python",
   "pygments_lexer": "ipython3",
   "version": "3.12.1"
  }
 },
 "nbformat": 4,
 "nbformat_minor": 2
}
