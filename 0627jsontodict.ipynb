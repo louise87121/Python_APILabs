{
 "cells": [
  {
   "cell_type": "markdown",
   "metadata": {},
   "source": [
    "### json to dict: json.loads() 要進 python 時換成 dict"
   ]
  },
  {
   "cell_type": "code",
   "execution_count": 5,
   "metadata": {},
   "outputs": [
    {
     "name": "stdout",
     "output_type": "stream",
     "text": [
      "<class 'dict'>\n",
      "{'name': 'qunatpass', 'age': '28', 'city': 'Taipei'}\n"
     ]
    }
   ],
   "source": [
    "import json\n",
    "j = '{\"name\":\"qunatpass\", \"age\":\"28\", \"city\": \"Taipei\"}'\n",
    "date = json.loads(j)\n",
    "\n",
    "print(type(date))\n",
    "print(date)"
   ]
  },
  {
   "cell_type": "markdown",
   "metadata": {},
   "source": [
    "### dict to json: json.dumps() 要送出去給別的程式時"
   ]
  },
  {
   "cell_type": "code",
   "execution_count": 6,
   "metadata": {},
   "outputs": [
    {
     "name": "stdout",
     "output_type": "stream",
     "text": [
      "<class 'str'>\n",
      "{\"name\": \"qunatpass\", \"age\": \"28\", \"city\": \"Taipei\"}\n"
     ]
    }
   ],
   "source": [
    "d = {\"name\":\"qunatpass\", \"age\":\"28\", \"city\": \"Taipei\"}\n",
    "date = json.dumps(d)\n",
    "\n",
    "print(type(date))\n",
    "print(date)"
   ]
  },
  {
   "cell_type": "markdown",
   "metadata": {},
   "source": [
    "### 錯誤處理"
   ]
  },
  {
   "cell_type": "code",
   "execution_count": 7,
   "metadata": {},
   "outputs": [
    {
     "name": "stdout",
     "output_type": "stream",
     "text": [
      "除數不可以為0\n"
     ]
    }
   ],
   "source": [
    "try:\n",
    "    print(1/0)\n",
    "except:\n",
    "    print('除數不可以為0')"
   ]
  },
  {
   "cell_type": "code",
   "execution_count": null,
   "metadata": {},
   "outputs": [
    {
     "name": "stdout",
     "output_type": "stream",
     "text": [
      "1 3\n",
      "2 4\n",
      "3 5\n",
      "4 6\n",
      "5 7\n",
      "6 8\n",
      "7 9\n",
      "8 10\n",
      "9 11\n",
      "10 12\n"
     ]
    }
   ],
   "source": [
    "data = [1,2,3,4,'5x',6,7,8,9,10]\n",
    "\n",
    "for i in data:\n",
    "    try:\n",
    "        if \"x\"in i:\n",
    "            i = int(i.replace('x', ''))\n",
    "            print(i, i+2)\n",
    "    except:\n",
    "        print (i,i+2)\n",
    "\n",
    "\n"
   ]
  },
  {
   "cell_type": "code",
   "execution_count": 10,
   "metadata": {},
   "outputs": [
    {
     "name": "stdout",
     "output_type": "stream",
     "text": [
      "1 2.0\n",
      "2 1.0\n",
      "3 0.6666666666666666\n",
      "4 0.5\n",
      "形態錯誤\n",
      "6 0.3333333333333333\n",
      "7 0.2857142857142857\n",
      "8 0.25\n",
      "9 0.2222222222222222\n",
      "division by zero\n"
     ]
    }
   ],
   "source": [
    "data1 = [1,2,3,4,'5x',6,7,8,9,0]\n",
    "\n",
    "for i in data1:\n",
    "    try:\n",
    "        print(i,2/i)\n",
    "    except TypeError:\n",
    "        print('形態錯誤')\n",
    "    except Exception as e:\n",
    "        print(e)\n",
    "\n"
   ]
  },
  {
   "cell_type": "code",
   "execution_count": 11,
   "metadata": {},
   "outputs": [
    {
     "name": "stdout",
     "output_type": "stream",
     "text": [
      "1 2.0\n",
      "沒有錯誤發生, else來這邊 10\n",
      "finally來這邊, 不管有沒有錯誤都會執行\n",
      "2 1.0\n",
      "沒有錯誤發生, else來這邊 20\n",
      "finally來這邊, 不管有沒有錯誤都會執行\n",
      "形態錯誤\n",
      "finally來這邊, 不管有沒有錯誤都會執行\n",
      "division by zero\n",
      "finally來這邊, 不管有沒有錯誤都會執行\n"
     ]
    }
   ],
   "source": [
    "data2 = [1,2,'5x',0]\n",
    "\n",
    "for i in data2:\n",
    "    try:\n",
    "        print(i, 2/i)\n",
    "    except TypeError:\n",
    "        print('形態錯誤')\n",
    "    except Exception as e:\n",
    "        print(e)\n",
    "    else:\n",
    "        print('沒有錯誤發生, else來這邊', i*10)\n",
    "    finally:\n",
    "        print('finally來這邊, 不管有沒有錯誤都會執行') \n"
   ]
  }
 ],
 "metadata": {
  "kernelspec": {
   "display_name": "Python 3",
   "language": "python",
   "name": "python3"
  },
  "language_info": {
   "codemirror_mode": {
    "name": "ipython",
    "version": 3
   },
   "file_extension": ".py",
   "mimetype": "text/x-python",
   "name": "python",
   "nbconvert_exporter": "python",
   "pygments_lexer": "ipython3",
   "version": "3.12.1"
  }
 },
 "nbformat": 4,
 "nbformat_minor": 2
}
